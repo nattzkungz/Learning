{
  "nbformat": 4,
  "nbformat_minor": 0,
  "metadata": {
    "kernelspec": {
      "display_name": "Python 3",
      "language": "python",
      "name": "python3"
    },
    "language_info": {
      "codemirror_mode": {
        "name": "ipython",
        "version": 3
      },
      "file_extension": ".py",
      "mimetype": "text/x-python",
      "name": "python",
      "nbconvert_exporter": "python",
      "pygments_lexer": "ipython3",
      "version": "3.8.2"
    },
    "colab": {
      "name": "Python Review 3.ipynb",
      "provenance": [],
      "include_colab_link": true
    }
  },
  "cells": [
    {
      "cell_type": "markdown",
      "metadata": {
        "id": "view-in-github",
        "colab_type": "text"
      },
      "source": [
        "<a href=\"https://colab.research.google.com/github/nattzkungz/Learning/blob/master/Learning/Python/School/Grade12/Python_Review_3.ipynb\" target=\"_parent\"><img src=\"https://colab.research.google.com/assets/colab-badge.svg\" alt=\"Open In Colab\"/></a>"
      ]
    },
    {
      "cell_type": "code",
      "metadata": {
        "id": "1NgngPM2CfVu",
        "colab_type": "code",
        "colab": {},
        "outputId": "3aaa2786-3881-4761-dda1-f97c358de9de"
      },
      "source": [
        "def loop29():\n",
        "    print(\"Number count from 2 to 9\")\n",
        "    for x in range (2,10): #10 because python will recognize 10 as maximum value and will not exceed 9\n",
        "        print(x, end=\",\")\n",
        "\n",
        "loop29()"
      ],
      "execution_count": null,
      "outputs": [
        {
          "output_type": "stream",
          "text": [
            "2,3,4,5,6,7,8,9,"
          ],
          "name": "stdout"
        }
      ]
    },
    {
      "cell_type": "code",
      "metadata": {
        "scrolled": true,
        "id": "pCCSDG4eCfV1",
        "colab_type": "code",
        "colab": {},
        "outputId": "719647c9-be0c-46f2-f911-613216444d12"
      },
      "source": [
        "def rvse():\n",
        "    word = input(str(\"Please enter a word to print in reverse : \"))\n",
        "    print(word [::-1]) #[::-1] make printing in reverse\n",
        "rvse()"
      ],
      "execution_count": null,
      "outputs": [
        {
          "output_type": "stream",
          "text": [
            "Please enter a word to print in reverse : dlroW olleH\n",
            "Hello World\n"
          ],
          "name": "stdout"
        }
      ]
    },
    {
      "cell_type": "code",
      "metadata": {
        "id": "CwIs3uvMCfV6",
        "colab_type": "code",
        "colab": {},
        "outputId": "d14c1fbd-dbdb-4e3c-8aa8-0c3c797e0c67"
      },
      "source": [
        "def square(length, width):\n",
        "    print(\"Square\")\n",
        "    print(\"_\"*(length+2)) # +2 to make rectangle symmetry to jupyter printing\n",
        "    for x in range(width):\n",
        "        print (\"_\" + \" \" * (length) + \"_\")\n",
        "    print(\"_\"*(length+2))\n",
        "square(10,10)"
      ],
      "execution_count": null,
      "outputs": [
        {
          "output_type": "stream",
          "text": [
            "Square\n",
            "____________\n",
            "_          _\n",
            "_          _\n",
            "_          _\n",
            "_          _\n",
            "_          _\n",
            "_          _\n",
            "_          _\n",
            "_          _\n",
            "_          _\n",
            "_          _\n",
            "____________\n"
          ],
          "name": "stdout"
        }
      ]
    },
    {
      "cell_type": "code",
      "metadata": {
        "id": "5PXAtf5qCfV-",
        "colab_type": "code",
        "colab": {},
        "outputId": "d255c49e-f858-4dca-e799-394fa57a365d"
      },
      "source": [
        "def rowcol ():\n",
        "    tupcoord = [] #empty list ready to append\n",
        "    ask_row = int(input(\"Enter row : \"))\n",
        "    ask_col = int(input(\"Enter coloumn : \"))\n",
        "    print()\n",
        "    print(\"Coordinates : \")\n",
        "    print()\n",
        "    for x in range(ask_row+1): # +1 to avoid maximum value at (given value - 1)\n",
        "        for y in range(ask_col+1):\n",
        "            tupcoord.append((x,y)) #append the list from value generated in for loop\n",
        "    print(tupcoord)\n",
        "\n",
        "rowcol()"
      ],
      "execution_count": null,
      "outputs": [
        {
          "output_type": "stream",
          "text": [
            "Enter row : 10\n",
            "Enter coloumn : 10\n",
            "\n",
            "Coordinates : \n",
            "\n",
            "[(0, 0), (0, 1), (0, 2), (0, 3), (0, 4), (0, 5), (0, 6), (0, 7), (0, 8), (0, 9), (0, 10), (1, 0), (1, 1), (1, 2), (1, 3), (1, 4), (1, 5), (1, 6), (1, 7), (1, 8), (1, 9), (1, 10), (2, 0), (2, 1), (2, 2), (2, 3), (2, 4), (2, 5), (2, 6), (2, 7), (2, 8), (2, 9), (2, 10), (3, 0), (3, 1), (3, 2), (3, 3), (3, 4), (3, 5), (3, 6), (3, 7), (3, 8), (3, 9), (3, 10), (4, 0), (4, 1), (4, 2), (4, 3), (4, 4), (4, 5), (4, 6), (4, 7), (4, 8), (4, 9), (4, 10), (5, 0), (5, 1), (5, 2), (5, 3), (5, 4), (5, 5), (5, 6), (5, 7), (5, 8), (5, 9), (5, 10), (6, 0), (6, 1), (6, 2), (6, 3), (6, 4), (6, 5), (6, 6), (6, 7), (6, 8), (6, 9), (6, 10), (7, 0), (7, 1), (7, 2), (7, 3), (7, 4), (7, 5), (7, 6), (7, 7), (7, 8), (7, 9), (7, 10), (8, 0), (8, 1), (8, 2), (8, 3), (8, 4), (8, 5), (8, 6), (8, 7), (8, 8), (8, 9), (8, 10), (9, 0), (9, 1), (9, 2), (9, 3), (9, 4), (9, 5), (9, 6), (9, 7), (9, 8), (9, 9), (9, 10), (10, 0), (10, 1), (10, 2), (10, 3), (10, 4), (10, 5), (10, 6), (10, 7), (10, 8), (10, 9), (10, 10)]\n"
          ],
          "name": "stdout"
        }
      ]
    },
    {
      "cell_type": "code",
      "metadata": {
        "id": "fZHnCB9bCfWC",
        "colab_type": "code",
        "colab": {}
      },
      "source": [
        ""
      ],
      "execution_count": null,
      "outputs": []
    }
  ]
}