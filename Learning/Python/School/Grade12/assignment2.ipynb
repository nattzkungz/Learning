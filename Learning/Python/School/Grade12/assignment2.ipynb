{
  "nbformat": 4,
  "nbformat_minor": 0,
  "metadata": {
    "kernelspec": {
      "display_name": "Python 3",
      "language": "python",
      "name": "python3"
    },
    "language_info": {
      "codemirror_mode": {
        "name": "ipython",
        "version": 3
      },
      "file_extension": ".py",
      "mimetype": "text/x-python",
      "name": "python",
      "nbconvert_exporter": "python",
      "pygments_lexer": "ipython3",
      "version": "3.8.3"
    },
    "colab": {
      "name": "assignment2.ipynb",
      "provenance": [],
      "include_colab_link": true
    }
  },
  "cells": [
    {
      "cell_type": "markdown",
      "metadata": {
        "id": "view-in-github",
        "colab_type": "text"
      },
      "source": [
        "<a href=\"https://colab.research.google.com/github/nattzkungz/Learning/blob/master/Learning/Python/School/Grade12/assignment2.ipynb\" target=\"_parent\"><img src=\"https://colab.research.google.com/assets/colab-badge.svg\" alt=\"Open In Colab\"/></a>"
      ]
    },
    {
      "cell_type": "code",
      "metadata": {
        "id": "i9pUVKXy_8Wm",
        "colab_type": "code",
        "colab": {
          "base_uri": "https://localhost:8080/",
          "height": 67
        },
        "outputId": "aee0abfe-6a65-41a8-deda-4d2649c9eaf9"
      },
      "source": [
        "def numberrz(one,two):\n",
        "#Variables\n",
        "    one = int(input(\"Please enter the first number : \"))\n",
        "    two = int(input(\"Please enter the second number : \"))\n",
        "#Statement\n",
        "    if one > two:\n",
        "        print(\"The first number is bigger than the second one\")\n",
        "    elif two > one:\n",
        "        print(\"The second number is bigger than the first one\")\n",
        "    else:\n",
        "        print(\"They are the same value\")\n",
        "\n",
        "numberrz(\"\",\"\")\n",
        "\n"
      ],
      "execution_count": null,
      "outputs": [
        {
          "output_type": "stream",
          "text": [
            "Please enter the first number : 5\n",
            "Please enter the second number : 6\n",
            "The second number is bigger than the first one\n"
          ],
          "name": "stdout"
        }
      ]
    },
    {
      "cell_type": "code",
      "metadata": {
        "id": "mDGb6RBR_8Wp",
        "colab_type": "code",
        "colab": {},
        "outputId": "9e578711-429f-44ab-f1a3-413e12382b0a"
      },
      "source": [
        "def stringz(inptt):\n",
        "#input\n",
        "    inptt = str(input(\"Please enter a word : \"))\n",
        "#Operation\n",
        "    a = inptt.upper()\n",
        "    print(\"Upper case : \",a)\n",
        "    b = inptt.lower()\n",
        "    print(\"Lower case : \", b)\n",
        "    x = len(inptt)\n",
        "    print(\"Character length is : \",x)\n",
        "    \n",
        "stringz(\"\")"
      ],
      "execution_count": null,
      "outputs": [
        {
          "output_type": "stream",
          "text": [
            "Please enter a word : Bangkok\n",
            "Upper case :  BANGKOK\n",
            "Lower case :  bangkok\n",
            "Character length is :  7\n"
          ],
          "name": "stdout"
        }
      ]
    },
    {
      "cell_type": "code",
      "metadata": {
        "id": "JkXRTB7O_8Ws",
        "colab_type": "code",
        "colab": {},
        "outputId": "5d480587-3b8b-4616-d5bf-405755cbda7f"
      },
      "source": [
        "def listz(strg,num):\n",
        "    strg = str(input(\"Enter a word to create a list : \"))\n",
        "    num = int(input(\"How many times you want to add it : \"))\n",
        "    mylist = [strg]\n",
        "    mylist1 = mylist*num\n",
        "    print(mylist1)\n",
        "    \n",
        "listz(\"\",\"\")\n",
        "    "
      ],
      "execution_count": null,
      "outputs": [
        {
          "output_type": "stream",
          "text": [
            "Enter a word to create a list : Thailand\n",
            "How many times you want to add it : 9\n",
            "['Thailand', 'Thailand', 'Thailand', 'Thailand', 'Thailand', 'Thailand', 'Thailand', 'Thailand', 'Thailand']\n"
          ],
          "name": "stdout"
        }
      ]
    },
    {
      "cell_type": "code",
      "metadata": {
        "id": "UWxqQVcP_8Wu",
        "colab_type": "code",
        "colab": {},
        "outputId": "8a835cd3-9267-4b0d-a9b5-cdaf750de659"
      },
      "source": [
        "dicts = {\"Mineral Water\":5,\"Cola\":10,\"Rice\":15,\"Ramen\":20,\"Spice\":25}\n",
        "print(dicts)"
      ],
      "execution_count": null,
      "outputs": [
        {
          "output_type": "stream",
          "text": [
            "{'Mineral Water': 5, 'Cola': 10, 'Rice': 15, 'Ramen': 20, 'Spice': 25}\n"
          ],
          "name": "stdout"
        }
      ]
    },
    {
      "cell_type": "code",
      "metadata": {
        "id": "5tpOntHU_8Ww",
        "colab_type": "code",
        "colab": {}
      },
      "source": [
        ""
      ],
      "execution_count": null,
      "outputs": []
    }
  ]
}